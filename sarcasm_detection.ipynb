{
 "cells": [
  {
   "cell_type": "code",
   "execution_count": 1,
   "metadata": {},
   "outputs": [],
   "source": [
    "import numpy as np\n",
    "import pandas as pd\n",
    "import scipy as sp\n",
    "import sklearn as sk\n",
    "from sklearn.model_selection import train_test_split\n",
    "from sklearn.model_selection import cross_val_score\n",
    "import sklearn.ensemble as skens\n",
    "import sklearn.metrics as skmetric\n",
    "import sklearn.naive_bayes as sknb\n",
    "import sklearn.tree as sktree\n",
    "import matplotlib.pyplot as plt\n",
    "%matplotlib inline\n",
    "import seaborn as sns\n",
    "sns.set(style='white', color_codes=True, font_scale=1.3)\n",
    "import sklearn.externals.six as sksix\n",
    "import IPython.display as ipd\n",
    "from sklearn.model_selection import cross_val_score\n",
    "from sklearn import metrics\n",
    "import os"
   ]
  },
  {
   "cell_type": "code",
   "execution_count": 2,
   "metadata": {},
   "outputs": [],
   "source": [
    "sample=pd.read_csv('all/sample-submission.csv')"
   ]
  },
  {
   "cell_type": "code",
   "execution_count": 3,
   "metadata": {},
   "outputs": [
    {
     "data": {
      "text/html": [
       "<div>\n",
       "<style scoped>\n",
       "    .dataframe tbody tr th:only-of-type {\n",
       "        vertical-align: middle;\n",
       "    }\n",
       "\n",
       "    .dataframe tbody tr th {\n",
       "        vertical-align: top;\n",
       "    }\n",
       "\n",
       "    .dataframe thead th {\n",
       "        text-align: right;\n",
       "    }\n",
       "</style>\n",
       "<table border=\"1\" class=\"dataframe\">\n",
       "  <thead>\n",
       "    <tr style=\"text-align: right;\">\n",
       "      <th></th>\n",
       "      <th>Id</th>\n",
       "      <th>Category</th>\n",
       "    </tr>\n",
       "  </thead>\n",
       "  <tbody>\n",
       "    <tr>\n",
       "      <th>0</th>\n",
       "      <td>0</td>\n",
       "      <td>1</td>\n",
       "    </tr>\n",
       "    <tr>\n",
       "      <th>1</th>\n",
       "      <td>1</td>\n",
       "      <td>1</td>\n",
       "    </tr>\n",
       "    <tr>\n",
       "      <th>2</th>\n",
       "      <td>2</td>\n",
       "      <td>0</td>\n",
       "    </tr>\n",
       "    <tr>\n",
       "      <th>3</th>\n",
       "      <td>3</td>\n",
       "      <td>1</td>\n",
       "    </tr>\n",
       "    <tr>\n",
       "      <th>4</th>\n",
       "      <td>4</td>\n",
       "      <td>1</td>\n",
       "    </tr>\n",
       "  </tbody>\n",
       "</table>\n",
       "</div>"
      ],
      "text/plain": [
       "   Id  Category\n",
       "0   0         1\n",
       "1   1         1\n",
       "2   2         0\n",
       "3   3         1\n",
       "4   4         1"
      ]
     },
     "execution_count": 3,
     "metadata": {},
     "output_type": "execute_result"
    }
   ],
   "source": [
    "sample.head()"
   ]
  },
  {
   "cell_type": "code",
   "execution_count": 4,
   "metadata": {},
   "outputs": [],
   "source": [
    "train=pd.read_csv('all/train.tsv', sep='\\t')"
   ]
  },
  {
   "cell_type": "code",
   "execution_count": 5,
   "metadata": {},
   "outputs": [
    {
     "data": {
      "text/html": [
       "<div>\n",
       "<style scoped>\n",
       "    .dataframe tbody tr th:only-of-type {\n",
       "        vertical-align: middle;\n",
       "    }\n",
       "\n",
       "    .dataframe tbody tr th {\n",
       "        vertical-align: top;\n",
       "    }\n",
       "\n",
       "    .dataframe thead th {\n",
       "        text-align: right;\n",
       "    }\n",
       "</style>\n",
       "<table border=\"1\" class=\"dataframe\">\n",
       "  <thead>\n",
       "    <tr style=\"text-align: right;\">\n",
       "      <th></th>\n",
       "      <th>label</th>\n",
       "      <th>comment</th>\n",
       "      <th>parent_comment</th>\n",
       "    </tr>\n",
       "  </thead>\n",
       "  <tbody>\n",
       "    <tr>\n",
       "      <th>0</th>\n",
       "      <td>0</td>\n",
       "      <td>This guy, there's no way he isn't trolling, ri...</td>\n",
       "      <td>Who?</td>\n",
       "    </tr>\n",
       "    <tr>\n",
       "      <th>1</th>\n",
       "      <td>0</td>\n",
       "      <td>Funny how the media chose to never bring it up...</td>\n",
       "      <td>Umm yes! It was a huge scandal, do you not mem...</td>\n",
       "    </tr>\n",
       "    <tr>\n",
       "      <th>2</th>\n",
       "      <td>0</td>\n",
       "      <td>If you're buying something at only 20% off, yo...</td>\n",
       "      <td>I think you could make a bot that randomly pos...</td>\n",
       "    </tr>\n",
       "    <tr>\n",
       "      <th>3</th>\n",
       "      <td>0</td>\n",
       "      <td>Oh come on</td>\n",
       "      <td>is there still a difference nowadays?</td>\n",
       "    </tr>\n",
       "    <tr>\n",
       "      <th>4</th>\n",
       "      <td>0</td>\n",
       "      <td>Bots don't send their best people.</td>\n",
       "      <td>Stop following me shillbot and upvote my post!...</td>\n",
       "    </tr>\n",
       "  </tbody>\n",
       "</table>\n",
       "</div>"
      ],
      "text/plain": [
       "   label                                            comment  \\\n",
       "0      0  This guy, there's no way he isn't trolling, ri...   \n",
       "1      0  Funny how the media chose to never bring it up...   \n",
       "2      0  If you're buying something at only 20% off, yo...   \n",
       "3      0                                         Oh come on   \n",
       "4      0                 Bots don't send their best people.   \n",
       "\n",
       "                                      parent_comment  \n",
       "0                                               Who?  \n",
       "1  Umm yes! It was a huge scandal, do you not mem...  \n",
       "2  I think you could make a bot that randomly pos...  \n",
       "3              is there still a difference nowadays?  \n",
       "4  Stop following me shillbot and upvote my post!...  "
      ]
     },
     "execution_count": 5,
     "metadata": {},
     "output_type": "execute_result"
    }
   ],
   "source": [
    "train.head()"
   ]
  },
  {
   "cell_type": "code",
   "execution_count": 6,
   "metadata": {},
   "outputs": [],
   "source": [
    "test=pd.read_csv('all/test.tsv', sep='\\t')"
   ]
  },
  {
   "cell_type": "code",
   "execution_count": 7,
   "metadata": {},
   "outputs": [],
   "source": [
    "test=test.replace(np.nan, '_')"
   ]
  },
  {
   "cell_type": "code",
   "execution_count": 8,
   "metadata": {},
   "outputs": [],
   "source": [
    "from sklearn.feature_extraction.text import TfidfVectorizer, CountVectorizer, TfidfTransformer\n",
    "from sklearn.pipeline import Pipeline\n"
   ]
  },
  {
   "cell_type": "markdown",
   "metadata": {},
   "source": [
    "# Bernoulli Naive Bayes Classifier\n",
    "Best Score: 66.580% accurate"
   ]
  },
  {
   "cell_type": "code",
   "execution_count": 9,
   "metadata": {},
   "outputs": [],
   "source": [
    "# p1=len(np.where(train['label']==1)[0])/len(train['label'])\n",
    "# text_clf = Pipeline([('vect', CountVectorizer()),\n",
    "#                       ('tfidf', TfidfTransformer()),\n",
    "#                       ('clf', sknb.BernoulliNB(class_prior=[p1,1-p1]))])\n",
    "                    \n",
    "# text_clf.fit(train['comment'],train['label'])\n",
    "\n",
    "# y_pred = text_clf.predict(test['comment'])\n",
    "# test['category'] = y_pred\n",
    "\n",
    "# test[['id','category']].to_csv('acbar_submission1.csv', index=False)"
   ]
  },
  {
   "cell_type": "markdown",
   "metadata": {},
   "source": [
    "# Random Forest Classifier\n",
    "Best Score: 64.198% accurate"
   ]
  },
  {
   "cell_type": "code",
   "execution_count": 10,
   "metadata": {},
   "outputs": [],
   "source": [
    "# text_clf = Pipeline([('vect', CountVectorizer()),\n",
    "#                       ('tfidf', TfidfTransformer()),\n",
    "#                       ('clf', skens.RandomForestClassifier(n_estimators=10,oob_score=True, criterion='entropy'))])\n",
    "                    \n",
    "# text_clf.fit(train['comment'],train['label'])\n",
    "\n",
    "# y_pred = text_clf.predict(test['comment'])\n",
    "# test['category'] = y_pred\n",
    "\n",
    "# test[['id','category']].to_csv('acbar_submission2.csv', index=False)"
   ]
  },
  {
   "cell_type": "markdown",
   "metadata": {},
   "source": [
    "# SGD Classifier\n",
    "Best Score: 68.927% accurate"
   ]
  },
  {
   "cell_type": "code",
   "execution_count": 12,
   "metadata": {},
   "outputs": [],
   "source": [
    "# from sklearn.linear_model import SGDClassifier\n",
    "\n",
    "\n",
    "# text_clf = Pipeline([('vect', CountVectorizer(max_df= 0.75, max_features= None, ngram_range= (1, 2))),\n",
    "#                       ('tfidf', TfidfTransformer(norm= 'l2', use_idf= False)),\n",
    "#                       ('clf', SGDClassifier(alpha= 1e-05, max_iter= 50, penalty= 'elasticnet'))])\n",
    "                    \n",
    "# text_clf.fit(train['comment'],train['label'])\n",
    "\n",
    "# y_pred = text_clf.predict(test['comment'])\n",
    "# test['category'] = y_pred\n",
    "\n",
    "# test[['id','category']].to_csv('acbar_submission4.csv', index=False)\n"
   ]
  },
  {
   "cell_type": "code",
   "execution_count": 13,
   "metadata": {},
   "outputs": [],
   "source": [
    "# parameters = {\n",
    "#     'vect__max_df': (0.5, 0.75, 1.0),\n",
    "#     'vect__max_features': (None, 5000, 10000, 50000),\n",
    "#     'vect__ngram_range': ((1, 1), (1, 2)),  # unigrams or bigrams\n",
    "#     'tfidf__use_idf': (True, False),\n",
    "#     'tfidf__norm': ('l1', 'l2'),\n",
    "#     'clf__max_iter': (5,),\n",
    "#     'clf__alpha': (0.00001, 0.000001),\n",
    "#     'clf__penalty': ('l2', 'elasticnet'),\n",
    "#     'clf__max_iter': (10, 50, 80),\n",
    "# }"
   ]
  },
  {
   "cell_type": "code",
   "execution_count": 14,
   "metadata": {},
   "outputs": [],
   "source": [
    "# from sklearn.model_selection import GridSearchCV\n",
    "\n",
    "# grid_search = GridSearchCV(text_clf, parameters, cv=5,\n",
    "#                                n_jobs=-1, verbose=1)"
   ]
  },
  {
   "cell_type": "code",
   "execution_count": 15,
   "metadata": {},
   "outputs": [],
   "source": [
    "# grid_search.fit(train.comment, train.label)\n"
   ]
  },
  {
   "cell_type": "code",
   "execution_count": 16,
   "metadata": {},
   "outputs": [],
   "source": [
    "# best_parameters = grid_search.best_estimator_.get_params()\n",
    "# for param_name in sorted(parameters.keys()):\n",
    "#     print(\"\\t%s: %r\" % (param_name, best_parameters[param_name]))"
   ]
  },
  {
   "cell_type": "markdown",
   "metadata": {},
   "source": [
    "# Feature Extraction"
   ]
  },
  {
   "cell_type": "code",
   "execution_count": 17,
   "metadata": {},
   "outputs": [],
   "source": [
    "from sklearn.base import BaseEstimator, TransformerMixin\n",
    "\n",
    "class upperchars(BaseEstimator, TransformerMixin):\n",
    "\n",
    "    def __init__(self):\n",
    "        pass\n",
    "\n",
    "    def transform(self, df, y=None):\n",
    "        data=df.apply(lambda x: sum (1 for c in x if c.isupper()))\n",
    "        return np.transpose(np.matrix(data))\n",
    "        \n",
    "    \n",
    "    def fit(self, df, y=None):\n",
    "        return self"
   ]
  },
  {
   "cell_type": "code",
   "execution_count": 18,
   "metadata": {},
   "outputs": [],
   "source": [
    "def maxRepeating(str): \n",
    "  \n",
    "    l = len(str) \n",
    "    count = 0\n",
    "  \n",
    "    # Find the maximum repeating  \n",
    "    # character starting from str[i] \n",
    "    res = str[0] \n",
    "    for i in range(l): \n",
    "          \n",
    "        cur_count = 1\n",
    "        for j in range(i + 1, l): \n",
    "      \n",
    "            if (str[i] != str[j]): \n",
    "                break\n",
    "            cur_count += 1\n",
    "  \n",
    "        # Update result if required \n",
    "        if cur_count > count : \n",
    "            count = cur_count \n",
    "            res = str[i] \n",
    "    return count"
   ]
  },
  {
   "cell_type": "code",
   "execution_count": 19,
   "metadata": {},
   "outputs": [],
   "source": [
    "class repeating(BaseEstimator, TransformerMixin):\n",
    "\n",
    "    def __init__(self):\n",
    "        pass\n",
    "\n",
    "\n",
    "    def transform(self, df, y=None):\n",
    "        data=df.apply(lambda x: maxRepeating(x))\n",
    "        return np.transpose(np.matrix(data))\n",
    "    \n",
    "    def fit(self, df, y=None):\n",
    "        return self"
   ]
  },
  {
   "cell_type": "code",
   "execution_count": 148,
   "metadata": {},
   "outputs": [],
   "source": [
    "from scipy.sparse import  hstack\n",
    "class exclamation(BaseEstimator, TransformerMixin):\n",
    "\n",
    "    def __init__(self):\n",
    "        pass\n",
    "\n",
    "\n",
    "    def transform(self, df, y=None):\n",
    "        data=df.apply(lambda x: sum (1 for c in x if '!' in c))\n",
    "        h= np.transpose(np.matrix(data))\n",
    "        return h\n",
    "    \n",
    "    def fit(self, df, y=None):\n",
    "        return self"
   ]
  },
  {
   "cell_type": "code",
   "execution_count": 207,
   "metadata": {},
   "outputs": [],
   "source": [
    "class colon(BaseEstimator, TransformerMixin):\n",
    "\n",
    "    def __init__(self):\n",
    "        pass\n",
    "\n",
    "\n",
    "    def transform(self, df, y=None):\n",
    "        data=df.apply(lambda x: sum (1 for c in x if ':' in c))\n",
    "        h= np.transpose(np.matrix(data))\n",
    "        return h\n",
    "    \n",
    "    def fit(self, df, y=None):\n",
    "        return self"
   ]
  },
  {
   "cell_type": "code",
   "execution_count": 231,
   "metadata": {},
   "outputs": [],
   "source": [
    "# def merge_two_dicts(x, y):\n",
    "#     z = x.copy()   # start with x's keys and values\n",
    "#     z.update(y)    # modifies z with y's keys and values & returns None\n",
    "#     return z\n"
   ]
  },
  {
   "cell_type": "code",
   "execution_count": 232,
   "metadata": {},
   "outputs": [],
   "source": [
    "from sklearn.metrics.pairwise import paired_cosine_distances, cosine_similarity, linear_kernel\n",
    "\n",
    "# class cosine_distance(BaseEstimator, TransformerMixin):\n",
    "\n",
    "#     def __init__(self):\n",
    "#         pass\n",
    "\n",
    "\n",
    "#     def transform(self, df, y=None):\n",
    "        \n",
    "#         vectorizer = TfidfVectorizer()\n",
    "\n",
    "#         tfidf_comment=vectorizer.fit_transform(df['comment'])\n",
    "#         comment_vocab = vectorizer.vocabulary_\n",
    "\n",
    "#         vectorizer2=TfidfVectorizer()\n",
    "\n",
    "#         tfidf_parent=vectorizer2.fit_transform(df['parent_comment'])\n",
    "#         parent_vocab= vectorizer2.vocabulary_\n",
    "        \n",
    "#         vocab = merge_two_dicts(comment_vocab, parent_vocab)\n",
    "        \n",
    "#         result=dict()\n",
    "\n",
    "#         for key,value in vocab.items():\n",
    "#             if key not in result.values():\n",
    "#                 result[key] = value\n",
    "        \n",
    "#         vectorizer3 = TfidfVectorizer(vocabulary=result)\n",
    "        \n",
    "\n",
    "#         tfidf_parent2 = vectorizer3.fit_transform(df['parent_comment'])\n",
    "#         tfidf_comment2 = vectorizer3.fit_transform(df['comment'])\n",
    "        \n",
    "#         sim=paired_cosine_distances(tfidf_parent2,tfidf_comment2)\n",
    "#         return np.transpose(np.matrix(sim))\n",
    "        \n",
    "#     def fit(self, df, y=None):\n",
    "#         return self"
   ]
  },
  {
   "cell_type": "code",
   "execution_count": 233,
   "metadata": {},
   "outputs": [],
   "source": [
    "from sklearn.preprocessing import FunctionTransformer\n",
    "\n",
    "# def comment(df):\n",
    "#     return df['comment']\n",
    "\n",
    "text_pipe = Pipeline([\n",
    "                      ('vect', CountVectorizer(max_df= 0.75, max_features= None, ngram_range= (1, 2))),\n",
    "                      ('tfidf', TfidfTransformer(norm= 'l2', use_idf= False))\n",
    "                    ])"
   ]
  },
  {
   "cell_type": "markdown",
   "metadata": {},
   "source": [
    "# SGD with Feature Extraction\n",
    "Best Score: 69.785% accurate"
   ]
  },
  {
   "cell_type": "code",
   "execution_count": 296,
   "metadata": {},
   "outputs": [],
   "source": [
    "from sklearn.pipeline import Pipeline, FeatureUnion\n",
    "from sklearn.linear_model import SGDClassifier\n",
    "\n",
    "\n",
    "pipeline = Pipeline([\n",
    "    ('feats', FeatureUnion([\n",
    "        ('text_pipe', text_pipe), \n",
    "        ('upper', upperchars()),\n",
    "        ('repeating', repeating()),\n",
    "        ('exclaim', exclamation()),\n",
    "        ('colon', colon())\n",
    "    ])),\n",
    "    ('clf', SGDClassifier(alpha= 1e-05, max_iter= 50, penalty= 'elasticnet'))  # classifier\n",
    "])"
   ]
  },
  {
   "cell_type": "code",
   "execution_count": 297,
   "metadata": {},
   "outputs": [],
   "source": [
    "# from sklearn.model_selection import GridSearchCV\n",
    "# import warnings\n",
    "# warnings.filterwarnings('ignore')\n",
    "\n",
    "# params={\n",
    "#     'clf__loss':['hinge','log'],\n",
    "#     'clf__max_iter': [5,10,30,40,50,60,70,80],\n",
    "#     'clf__alpha': [0.00001, 0.000001],\n",
    "#     'clf__penalty': ['l2', 'elasticnet']\n",
    "# }\n",
    "\n",
    "# grid_search = GridSearchCV(pipeline, param_grid=params, cv=5, n_jobs=1, verbose=1)\n",
    "\n",
    "# # grid_search.fit(train, train.label)\n",
    "\n",
    "# from sklearn.externals.joblib import parallel_backend\n",
    "\n",
    "# with parallel_backend('threading'):\n",
    "#     grid_search.fit(train['comment'], train.label)"
   ]
  },
  {
   "cell_type": "code",
   "execution_count": 298,
   "metadata": {},
   "outputs": [],
   "source": [
    "# best_parameters = grid_search.best_estimator_.get_params()\n",
    "# for param_name in sorted(params.keys()):\n",
    "#     print(\"\\t%s: %r\" % (param_name, best_parameters[param_name]))"
   ]
  },
  {
   "cell_type": "code",
   "execution_count": 299,
   "metadata": {},
   "outputs": [],
   "source": [
    "pipeline.fit(train['comment'],train['label'])\n",
    "\n",
    "y_pred = pipeline.predict(test['comment'])\n",
    "test['category'] = y_pred"
   ]
  },
  {
   "cell_type": "code",
   "execution_count": 300,
   "metadata": {},
   "outputs": [],
   "source": [
    "test[['id','category']].to_csv('acbar_submission5.csv', index=False)\n"
   ]
  }
 ],
 "metadata": {
  "kernelspec": {
   "display_name": "Python 3",
   "language": "python",
   "name": "python3"
  },
  "language_info": {
   "codemirror_mode": {
    "name": "ipython",
    "version": 3
   },
   "file_extension": ".py",
   "mimetype": "text/x-python",
   "name": "python",
   "nbconvert_exporter": "python",
   "pygments_lexer": "ipython3",
   "version": "3.6.5"
  }
 },
 "nbformat": 4,
 "nbformat_minor": 2
}
